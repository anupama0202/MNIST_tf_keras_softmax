{
  "nbformat": 4,
  "nbformat_minor": 0,
  "metadata": {
    "colab": {
      "provenance": []
    },
    "kernelspec": {
      "name": "python3",
      "display_name": "Python 3"
    },
    "language_info": {
      "name": "python"
    }
  },
  "cells": [
    {
      "cell_type": "code",
      "execution_count": 30,
      "metadata": {
        "id": "qSNVKWjxPcBr"
      },
      "outputs": [],
      "source": [
        "import numpy as np\n",
        "import pandas as pd\n",
        "import matplotlib.pyplot as plt\n",
        "import tensorflow as tf\n",
        "%matplotlib inline"
      ]
    },
    {
      "cell_type": "code",
      "source": [
        "from keras.layers import Dense, Activation"
      ],
      "metadata": {
        "id": "IQdPx34xQWC1"
      },
      "execution_count": 2,
      "outputs": []
    },
    {
      "cell_type": "code",
      "source": [
        "from keras.models import Sequential"
      ],
      "metadata": {
        "id": "o3YD0IVBQjih"
      },
      "execution_count": 3,
      "outputs": []
    },
    {
      "cell_type": "code",
      "source": [
        "from keras.optimizers import Adam"
      ],
      "metadata": {
        "id": "j9usOBmdQqHc"
      },
      "execution_count": 4,
      "outputs": []
    },
    {
      "cell_type": "code",
      "source": [
        "from keras.datasets import mnist"
      ],
      "metadata": {
        "id": "EVeUHGQtQxby"
      },
      "execution_count": 5,
      "outputs": []
    },
    {
      "cell_type": "code",
      "source": [
        "df = mnist.load_data()"
      ],
      "metadata": {
        "colab": {
          "base_uri": "https://localhost:8080/"
        },
        "id": "cmnijrsjRBmP",
        "outputId": "cdbc9b05-1d1e-49da-fbdb-cded632802b3"
      },
      "execution_count": 8,
      "outputs": [
        {
          "output_type": "stream",
          "name": "stdout",
          "text": [
            "Downloading data from https://storage.googleapis.com/tensorflow/tf-keras-datasets/mnist.npz\n",
            "11490434/11490434 [==============================] - 0s 0us/step\n"
          ]
        }
      ]
    },
    {
      "cell_type": "code",
      "source": [
        "len(df)"
      ],
      "metadata": {
        "colab": {
          "base_uri": "https://localhost:8080/"
        },
        "id": "-4smOIW2Uknu",
        "outputId": "4c514112-ca80-4d03-879e-be83c6a741ed"
      },
      "execution_count": 12,
      "outputs": [
        {
          "output_type": "execute_result",
          "data": {
            "text/plain": [
              "2"
            ]
          },
          "metadata": {},
          "execution_count": 12
        }
      ]
    },
    {
      "cell_type": "code",
      "source": [
        "(X_train, y_train), (X_test, y_test) = df"
      ],
      "metadata": {
        "id": "HlSRulbMUwB9"
      },
      "execution_count": 13,
      "outputs": []
    },
    {
      "cell_type": "code",
      "source": [
        "unique, counts = np.unique(y_train, return_counts=True)\n",
        "print('Trian labels:', dict(zip(unique, counts)))\n",
        "\n",
        "unique, counts = np.unique(y_test, return_counts=True)\n",
        "print('Test labels:', dict(zip(unique, counts)))"
      ],
      "metadata": {
        "colab": {
          "base_uri": "https://localhost:8080/"
        },
        "id": "D80vgg-cYR9B",
        "outputId": "d6fcec95-4556-4185-8816-38f1b6685695"
      },
      "execution_count": 14,
      "outputs": [
        {
          "output_type": "stream",
          "name": "stdout",
          "text": [
            "Trian labels: {0: 5923, 1: 6742, 2: 5958, 3: 6131, 4: 5842, 5: 5421, 6: 5918, 7: 6265, 8: 5851, 9: 5949}\n",
            "Test labels: {0: 980, 1: 1135, 2: 1032, 3: 1010, 4: 982, 5: 892, 6: 958, 7: 1028, 8: 974, 9: 1009}\n"
          ]
        }
      ]
    },
    {
      "cell_type": "code",
      "source": [
        "X_train.shape"
      ],
      "metadata": {
        "colab": {
          "base_uri": "https://localhost:8080/"
        },
        "id": "0j7KP_3BY_Cq",
        "outputId": "9bf68b60-e4d7-4c19-817f-3e1ea4445982"
      },
      "execution_count": 15,
      "outputs": [
        {
          "output_type": "execute_result",
          "data": {
            "text/plain": [
              "(60000, 28, 28)"
            ]
          },
          "metadata": {},
          "execution_count": 15
        }
      ]
    },
    {
      "cell_type": "code",
      "source": [
        "y_train.shape"
      ],
      "metadata": {
        "colab": {
          "base_uri": "https://localhost:8080/"
        },
        "id": "tacTTiv_b6km",
        "outputId": "f93bece4-d9cb-4861-c200-417e62926c94"
      },
      "execution_count": 16,
      "outputs": [
        {
          "output_type": "execute_result",
          "data": {
            "text/plain": [
              "(60000,)"
            ]
          },
          "metadata": {},
          "execution_count": 16
        }
      ]
    },
    {
      "cell_type": "code",
      "source": [
        "idx = np.random.randint(0, X_train.shape[0], size =25)"
      ],
      "metadata": {
        "id": "r_9MRTqib_n_"
      },
      "execution_count": 18,
      "outputs": []
    },
    {
      "cell_type": "code",
      "source": [
        "images = X_train[idx]\n",
        "labels = y_train[idx]"
      ],
      "metadata": {
        "id": "2_fMYLfZdODU"
      },
      "execution_count": 19,
      "outputs": []
    },
    {
      "cell_type": "code",
      "source": [
        "plt.figure(figsize = (5,5))\n",
        "for i in range(len(idx)):\n",
        "  plt.subplot(5,5, i+1)\n",
        "  image = images[i]\n",
        "  plt.imshow(image, cmap = 'gray')\n",
        "  plt.axis('off')\n",
        "\n",
        "plt.show()"
      ],
      "metadata": {
        "colab": {
          "base_uri": "https://localhost:8080/",
          "height": 303
        },
        "id": "HlXiAm0nddZp",
        "outputId": "a08fcbb3-51b9-4e62-ad96-8e8c63a31b3a"
      },
      "execution_count": 21,
      "outputs": [
        {
          "output_type": "display_data",
          "data": {
            "text/plain": [
              "<Figure size 360x360 with 25 Axes>"
            ],
            "image/png": "[encoded data removed]"
          },
          "metadata": {
            "needs_background": "light"
          }
        }
      ]
    },
    {
      "cell_type": "code",
      "source": [
        "len(np.unique(y_train))"
      ],
      "metadata": {
        "colab": {
          "base_uri": "https://localhost:8080/"
        },
        "id": "3QckJ5DGeCK5",
        "outputId": "19bf6d07-a7ac-417d-83de-7679adff0a8e"
      },
      "execution_count": 22,
      "outputs": [
        {
          "output_type": "execute_result",
          "data": {
            "text/plain": [
              "10"
            ]
          },
          "metadata": {},
          "execution_count": 22
        }
      ]
    },
    {
      "cell_type": "code",
      "source": [
        "from keras.utils import to_categorical\n",
        "y_train = to_categorical(y_train)\n",
        "y_test = to_categorical(y_test)"
      ],
      "metadata": {
        "id": "Dni2VMYEgenj"
      },
      "execution_count": 23,
      "outputs": []
    },
    {
      "cell_type": "code",
      "source": [
        "X_train = np.reshape(X_train, [-1, 28*28])"
      ],
      "metadata": {
        "id": "GDn4A2FLg0qM"
      },
      "execution_count": 25,
      "outputs": []
    },
    {
      "cell_type": "code",
      "source": [
        "X_train = X_train/255\n"
      ],
      "metadata": {
        "id": "R50QmNS2pcqi"
      },
      "execution_count": 28,
      "outputs": []
    },
    {
      "cell_type": "code",
      "source": [
        "X_test = np.reshape(X_test, [-1, 28*28])\n",
        "X_test = X_test/255"
      ],
      "metadata": {
        "id": "O-fIuHXUtI1A"
      },
      "execution_count": 29,
      "outputs": []
    },
    {
      "cell_type": "code",
      "source": [
        "model = Sequential(\n",
        "    [               \n",
        "        tf.keras.Input(shape=(28*28,)), \n",
        "        Dense(256, activation = 'relu'),\n",
        "        Dense(150, activation = 'relu'),\n",
        "        Dense(50, activation = 'relu'),\n",
        "        Dense(10, activation = 'softmax')\n",
        "        \n",
        "    ], name = \"my_model\" \n",
        ")"
      ],
      "metadata": {
        "id": "SoNiXUNMtMau"
      },
      "execution_count": 35,
      "outputs": []
    },
    {
      "cell_type": "code",
      "source": [
        "model.compile(loss = 'categorical_crossentropy', optimizer = 'adam', metrics = ['accuracy'])"
      ],
      "metadata": {
        "id": "Hldu8VRauf-1"
      },
      "execution_count": 38,
      "outputs": []
    },
    {
      "cell_type": "code",
      "source": [
        "model.fit(X_train, y_train, epochs = 20, batch_size=256)"
      ],
      "metadata": {
        "colab": {
          "base_uri": "https://localhost:8080/"
        },
        "id": "IqEfVkrQwGzc",
        "outputId": "24bfa63b-bbc9-4660-e169-c29d494ee309"
      },
      "execution_count": 41,
      "outputs": [
        {
          "output_type": "stream",
          "name": "stdout",
          "text": [
            "Epoch 1/20\n",
            "235/235 [==============================] - 3s 11ms/step - loss: 0.0118 - accuracy: 0.9965\n",
            "Epoch 2/20\n",
            "235/235 [==============================] - 3s 11ms/step - loss: 0.0124 - accuracy: 0.9961\n",
            "Epoch 3/20\n",
            "235/235 [==============================] - 3s 11ms/step - loss: 0.0087 - accuracy: 0.9970\n",
            "Epoch 4/20\n",
            "235/235 [==============================] - 3s 11ms/step - loss: 0.0091 - accuracy: 0.9970\n",
            "Epoch 5/20\n",
            "235/235 [==============================] - 3s 11ms/step - loss: 0.0126 - accuracy: 0.9956\n",
            "Epoch 6/20\n",
            "235/235 [==============================] - 3s 11ms/step - loss: 0.0108 - accuracy: 0.9963\n",
            "Epoch 7/20\n",
            "235/235 [==============================] - 3s 11ms/step - loss: 0.0062 - accuracy: 0.9978\n",
            "Epoch 8/20\n",
            "235/235 [==============================] - 3s 11ms/step - loss: 0.0070 - accuracy: 0.9981\n",
            "Epoch 9/20\n",
            "235/235 [==============================] - 3s 11ms/step - loss: 0.0035 - accuracy: 0.9989\n",
            "Epoch 10/20\n",
            "235/235 [==============================] - 3s 11ms/step - loss: 0.0087 - accuracy: 0.9973\n",
            "Epoch 11/20\n",
            "235/235 [==============================] - 3s 11ms/step - loss: 0.0081 - accuracy: 0.9974\n",
            "Epoch 12/20\n",
            "235/235 [==============================] - 3s 11ms/step - loss: 0.0082 - accuracy: 0.9972\n",
            "Epoch 13/20\n",
            "235/235 [==============================] - 3s 11ms/step - loss: 0.0083 - accuracy: 0.9972\n",
            "Epoch 14/20\n",
            "235/235 [==============================] - 3s 11ms/step - loss: 0.0060 - accuracy: 0.9977\n",
            "Epoch 15/20\n",
            "235/235 [==============================] - 3s 11ms/step - loss: 0.0101 - accuracy: 0.9965\n",
            "Epoch 16/20\n",
            "235/235 [==============================] - 3s 11ms/step - loss: 0.0025 - accuracy: 0.9992\n",
            "Epoch 17/20\n",
            "235/235 [==============================] - 3s 11ms/step - loss: 0.0033 - accuracy: 0.9989\n",
            "Epoch 18/20\n",
            "235/235 [==============================] - 3s 11ms/step - loss: 0.0060 - accuracy: 0.9981\n",
            "Epoch 19/20\n",
            "235/235 [==============================] - 3s 11ms/step - loss: 0.0068 - accuracy: 0.9978\n",
            "Epoch 20/20\n",
            "235/235 [==============================] - 3s 11ms/step - loss: 0.0084 - accuracy: 0.9972\n"
          ]
        },
        {
          "output_type": "execute_result",
          "data": {
            "text/plain": [
              "<keras.callbacks.History at 0x7fad05f23eb0>"
            ]
          },
          "metadata": {},
          "execution_count": 41
        }
      ]
    },
    {
      "cell_type": "code",
      "source": [
        "model.evaluate(X_test, y_test, batch_size= 128)"
      ],
      "metadata": {
        "colab": {
          "base_uri": "https://localhost:8080/"
        },
        "id": "6I03jY5rwVin",
        "outputId": "419c50f9-c9aa-4b33-82ab-b63197e41c0f"
      },
      "execution_count": 43,
      "outputs": [
        {
          "output_type": "stream",
          "name": "stdout",
          "text": [
            "79/79 [==============================] - 1s 8ms/step - loss: 0.1104 - accuracy: 0.9810\n"
          ]
        },
        {
          "output_type": "execute_result",
          "data": {
            "text/plain": [
              "[0.1104072630405426, 0.9810000061988831]"
            ]
          },
          "metadata": {},
          "execution_count": 43
        }
      ]
    },
    {
      "cell_type": "code",
      "source": [],
      "metadata": {
        "id": "0u8uXyUAxBfa"
      },
      "execution_count": null,
      "outputs": []
    }
  ]
}